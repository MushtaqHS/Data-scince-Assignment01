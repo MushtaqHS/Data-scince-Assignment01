{
 "cells": [
  {
   "cell_type": "markdown",
   "id": "2c6dc1fa",
   "metadata": {},
   "source": [
    "# Data science Course(JAWAN PAKISTAN)\n",
    "Assignment No.1"
   ]
  },
  {
   "cell_type": "code",
   "execution_count": 18,
   "id": "36d8e2aa",
   "metadata": {},
   "outputs": [
    {
     "name": "stdout",
     "output_type": "stream",
     "text": [
      "Twinkle,Twinkle,Little star,\n",
      "        How I wonder what you are!\n",
      "                Up above the world so high,\n",
      "                Like a diamond in the sky.\n",
      "Twinkle,Twinkle,Little star,\n",
      "        How I wonder what you are!\n"
     ]
    }
   ],
   "source": [
    "print(\"Twinkle,Twinkle,Little star,\")\n",
    "print(\"        How I wonder what you are!\")\n",
    "print(\"                Up above the world so high,\")\n",
    "print(\"                Like a diamond in the sky.\")\n",
    "print(\"Twinkle,Twinkle,Little star,\")\n",
    "print(\"        How I wonder what you are!\")"
   ]
  },
  {
   "cell_type": "markdown",
   "id": "0dd71246",
   "metadata": {},
   "source": [
    "# Write a python program to get the python version you are Using"
   ]
  },
  {
   "cell_type": "code",
   "execution_count": 22,
   "id": "2270b85e",
   "metadata": {},
   "outputs": [
    {
     "name": "stdout",
     "output_type": "stream",
     "text": [
      "python version\n",
      "3.9.7 (default, Sep 16 2021, 16:59:28) [MSC v.1916 64 bit (AMD64)]\n",
      "version info.\n",
      "sys.version_info(major=3, minor=9, micro=7, releaselevel='final', serial=0)\n"
     ]
    }
   ],
   "source": [
    "import sys\n",
    "print(\"python version\")\n",
    "print(sys.version)\n",
    "print(\"version info.\")\n",
    "print(sys.version_info)"
   ]
  },
  {
   "cell_type": "markdown",
   "id": "306ccf1f",
   "metadata": {},
   "source": [
    "# Write a python program to disply the current date and time"
   ]
  },
  {
   "cell_type": "code",
   "execution_count": 25,
   "id": "d7b6ff19",
   "metadata": {},
   "outputs": [
    {
     "name": "stdout",
     "output_type": "stream",
     "text": [
      "current date time:\n",
      "22-01-03 03:15:10\n"
     ]
    }
   ],
   "source": [
    "import datetime\n",
    "now=datetime.datetime.now()\n",
    "print(\"current date time:\")\n",
    "print(now.strftime(\"%y-%m-%d %H:%M:%S\"))"
   ]
  },
  {
   "cell_type": "markdown",
   "id": "db9d307f",
   "metadata": {},
   "source": [
    "# write a a python program which accepts the radius of the circle from the user and computer"
   ]
  },
  {
   "cell_type": "code",
   "execution_count": null,
   "id": "8388f121",
   "metadata": {},
   "outputs": [],
   "source": [
    "from math import pi\n",
    "r=float(input(\"write the radius of circle\"))\n",
    "print(\"the area of the circle is\"+\n",
    "     str(r)+\"is:\"+str(pi*r**2))"
   ]
  },
  {
   "cell_type": "markdown",
   "id": "6869bb55",
   "metadata": {},
   "source": [
    "## write a python program which accepts the user,s first and last name and print them in reverse order with the space B/W them"
   ]
  },
  {
   "cell_type": "code",
   "execution_count": null,
   "id": "32392994",
   "metadata": {},
   "outputs": [],
   "source": [
    "fname=int(input(\"enter your first name:\"))\n",
    "lname=int(input(\"enter first name:\"))\n",
    "print(\"hellow\"+\"\"\"+lname+\"\"+fname)"
   ]
  },
  {
   "cell_type": "markdown",
   "id": "1b43fba0",
   "metadata": {},
   "source": [
    "# Write a python program whitch take two input from the user and print them addition"
   ]
  },
  {
   "cell_type": "markdown",
   "id": "e07a8995",
   "metadata": {},
   "source": []
  },
  {
   "cell_type": "code",
   "execution_count": null,
   "id": "e505ec1d",
   "metadata": {},
   "outputs": [],
   "source": []
  },
  {
   "cell_type": "code",
   "execution_count": null,
   "id": "c7497a46",
   "metadata": {},
   "outputs": [],
   "source": []
  }
 ],
 "metadata": {
  "kernelspec": {
   "display_name": "Python 3 (ipykernel)",
   "language": "python",
   "name": "python3"
  },
  "language_info": {
   "codemirror_mode": {
    "name": "ipython",
    "version": 3
   },
   "file_extension": ".py",
   "mimetype": "text/x-python",
   "name": "python",
   "nbconvert_exporter": "python",
   "pygments_lexer": "ipython3",
   "version": "3.9.7"
  }
 },
 "nbformat": 4,
 "nbformat_minor": 5
}
